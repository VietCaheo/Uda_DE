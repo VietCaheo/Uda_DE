{
 "cells": [
  {
   "cell_type": "markdown",
   "metadata": {},
   "source": [
    "# ETL Processes\n",
    "Use this notebook to develop the ETL process for each of your tables before completing the `etl.py` file to load the whole datasets."
   ]
  },
  {
   "cell_type": "code",
   "execution_count": null,
   "metadata": {},
   "outputs": [],
   "source": [
    "import os\n",
    "import glob\n",
    "import psycopg2\n",
    "import numpy as np\n",
    "import pandas as pd\n",
    "from sql_queries import *\n",
    "from datetime import datetime"
   ]
  },
  {
   "cell_type": "code",
   "execution_count": null,
   "metadata": {},
   "outputs": [],
   "source": [
    "conn = psycopg2.connect(\"host=127.0.0.1 dbname=sparkifydb user=student password=student\")\n",
    "cur = conn.cursor()"
   ]
  },
  {
   "cell_type": "code",
   "execution_count": null,
   "metadata": {},
   "outputs": [],
   "source": [
    "def get_files(filepath):\n",
    "    all_files = []\n",
    "    for root, dirs, files in os.walk(filepath):\n",
    "        files = glob.glob(os.path.join(root,'*.json'))\n",
    "        for f in files :\n",
    "            all_files.append(os.path.abspath(f))\n",
    "    \n",
    "    return all_files"
   ]
  },
  {
   "cell_type": "markdown",
   "metadata": {},
   "source": [
    "# Process `song_data`\n",
    "In this first part, you'll perform ETL on the first dataset, `song_data`, to create the `songs` and `artists` dimensional tables.\n",
    "\n",
    "Let's perform ETL on a single song file and load a single record into each table to start.\n",
    "- Use the `get_files` function provided above to get a list of all song JSON files in `data/song_data`\n",
    "- Select the first song in this list\n",
    "- Read the song file and view the data"
   ]
  },
  {
   "cell_type": "code",
   "execution_count": null,
   "metadata": {},
   "outputs": [],
   "source": [
    "song_files = get_files(filepath)"
   ]
  },
  {
   "cell_type": "code",
   "execution_count": null,
   "metadata": {},
   "outputs": [],
   "source": [
    "filepath = 'data/song_data'"
   ]
  },
  {
   "cell_type": "code",
   "execution_count": null,
   "metadata": {},
   "outputs": [],
   "source": [
    "df_song=df[['song_id', 'title', 'artist_id', 'year', 'duration']]\n",
    "\n",
    "#get first row df_song\n",
    "# debug: convert array to a song list\n",
    "#song_data = df_song_1.values.tolist()\n",
    "\n",
    "#w2 using this df.values: for matching dtype in dataframe and postgreSQL\n",
    "df_song_1 = df_song.values[0]\n",
    "song_data = df_song_1.tolist()\n",
    "\n",
    "print(type(song_data))\n",
    "print(song_data)\n",
    "\n",
    "# print(\"\\n to debug dtype for each in df_song song_id :{} \\n title: {} \\n artist_id: {} \\n duration: {}\".f(song_data[0]))\n",
    "#print(\"to debug dtype for each in song_id :{} \\n duration : {} \\n year: {} \\n title: {}\".format(type(song_data[0]), type(song_data[4]), type(song_data[3]), type(song_data[1])))"
   ]
  },
  {
   "cell_type": "markdown",
   "metadata": {},
   "source": [
    "## #1: `songs` Table\n",
    "#### Extract Data for Songs Table\n",
    "- Select columns for song ID, title, artist ID, year, and duration\n",
    "- Use `df.values` to select just the values from the dataframe\n",
    "- Index to select the first (only) record in the dataframe\n",
    "- Convert the array to a list and set it to `song_data`"
   ]
  },
  {
   "cell_type": "code",
   "execution_count": null,
   "metadata": {},
   "outputs": [],
   "source": [
    "df_song=df[['song_id', 'title', 'artist_id', 'year', 'duration']]\n",
    "\n",
    "#get first row df_song\n",
    "# debug: convert array to a song list\n",
    "#song_data = df_song_1.values.tolist()\n",
    "\n",
    "#w2 using this df.values: for matching dtype in dataframe and postgreSQL\n",
    "df_song_1 = df_song.values[0]\n",
    "song_data = df_song_1.tolist()\n",
    "\n",
    "print(type(song_data))\n",
    "print(song_data)\n",
    "\n",
    "# print(\"\\n to debug dtype for each in df_song song_id :{} \\n title: {} \\n artist_id: {} \\n duration: {}\".f(song_data[0]))\n",
    "#print(\"to debug dtype for each in song_id :{} \\n duration : {} \\n year: {} \\n title: {}\".format(type(song_data[0]), type(song_data[4]), type(song_data[3]), type(song_data[1])))"
   ]
  },
  {
   "cell_type": "markdown",
   "metadata": {},
   "source": [
    "#### Insert Record into Song Table\n",
    "Implement the `song_table_insert` query in `sql_queries.py` and run the cell below to insert a record for this song into the `songs` table. Remember to run `create_tables.py` before running the cell below to ensure you've created/resetted the `songs` table in the sparkify database."
   ]
  },
  {
   "cell_type": "code",
   "execution_count": null,
   "metadata": {},
   "outputs": [],
   "source": [
    "cur.execute(song_table_insert, song_data)\n",
    "conn.commit()"
   ]
  },
  {
   "cell_type": "markdown",
   "metadata": {},
   "source": [
    "Run `test.ipynb` to see if you've successfully added a record to this table."
   ]
  },
  {
   "cell_type": "markdown",
   "metadata": {},
   "source": [
    "## #2: `artists` Table\n",
    "#### Extract Data for Artists Table\n",
    "- Select columns for artist ID, name, location, latitude, and longitude\n",
    "- Use `df.values` to select just the values from the dataframe\n",
    "- Index to select the first (only) record in the dataframe\n",
    "- Convert the array to a list and set it to `artist_data`"
   ]
  },
  {
   "cell_type": "code",
   "execution_count": null,
   "metadata": {},
   "outputs": [],
   "source": [
    "df_artist=df[['artist_id', 'artist_name', 'artist_location', 'artist_latitude', 'artist_longitude']]\n",
    "\n",
    "df_artist_1 = df_artist.values[0]\n",
    "artist_data = df_artist_1.tolist()"
   ]
  },
  {
   "cell_type": "markdown",
   "metadata": {},
   "source": [
    "#### Insert Record into Artist Table\n",
    "Implement the `artist_table_insert` query in `sql_queries.py` and run the cell below to insert a record for this song's artist into the `artists` table. Remember to run `create_tables.py` before running the cell below to ensure you've created/resetted the `artists` table in the sparkify database."
   ]
  },
  {
   "cell_type": "code",
   "execution_count": null,
   "metadata": {},
   "outputs": [],
   "source": [
    "cur.execute(artist_table_insert, artist_data)\n",
    "conn.commit()"
   ]
  },
  {
   "cell_type": "markdown",
   "metadata": {},
   "source": [
    "Run `test.ipynb` to see if you've successfully added a record to this table."
   ]
  },
  {
   "cell_type": "markdown",
   "metadata": {},
   "source": [
    "# Process `log_data`\n",
    "In this part, you'll perform ETL on the second dataset, `log_data`, to create the `time` and `users` dimensional tables, as well as the `songplays` fact table.\n",
    "\n",
    "Let's perform ETL on a single log file and load a single record into each table.\n",
    "- Use the `get_files` function provided above to get a list of all log JSON files in `data/log_data`\n",
    "- Select the first log file in this list\n",
    "- Read the log file and view the data"
   ]
  },
  {
   "cell_type": "code",
   "execution_count": null,
   "metadata": {},
   "outputs": [],
   "source": [
    "filepath = 'data/log_data'"
   ]
  },
  {
   "cell_type": "code",
   "execution_count": null,
   "metadata": {},
   "outputs": [],
   "source": [
    "log_files = get_files(filepath)"
   ]
  },
  {
   "cell_type": "code",
   "execution_count": null,
   "metadata": {},
   "outputs": [],
   "source": [
    "df = pd.read_json(log_files[0], lines=True)\n",
    "\n",
    "#to see 5rows of log_data files\n",
    "df.head()"
   ]
  },
  {
   "cell_type": "markdown",
   "metadata": {},
   "source": [
    "## #3: `time` Table\n",
    "#### Extract Data for Time Table\n",
    "- Filter records by `NextSong` action\n",
    "- Convert the `ts` timestamp column to datetime\n",
    "  - Hint: the current timestamp is in milliseconds\n",
    "- Extract the timestamp, hour, day, week of year, month, year, and weekday from the `ts` column and set `time_data` to a list containing these values in order\n",
    "  - Hint: use pandas' [`dt` attribute](https://pandas.pydata.org/pandas-docs/stable/reference/api/pandas.Series.dt.html) to access easily datetimelike properties.\n",
    "- Specify labels for these columns and set to `column_labels`\n",
    "- Create a dataframe, `time_df,` containing the time data for this file by combining `column_labels` and `time_data` into a dictionary and converting this into a dataframe"
   ]
  },
  {
   "cell_type": "code",
   "execution_count": null,
   "metadata": {},
   "outputs": [],
   "source": [
    "df =  pd.read_json(log_files[0], lines=True)\n",
    "\n",
    "#filter Page is \"NextSong\"\n",
    "df = df[df['page']=='NextSong']\n",
    "df.head()"
   ]
  },
  {
   "cell_type": "code",
   "execution_count": null,
   "metadata": {},
   "outputs": [],
   "source": [
    "rawTime = df[['ts']]\n",
    "rawTime.head()\n",
    "print()\n",
    "print(\"timestamp prior to convert {} \\n\".format(rawTime.head()))\n",
    "\n",
    "#first row ts and convert to datetime in pandas\n",
    "ts_dtime_S = []\n",
    "\n",
    "#count = 0\n",
    "for index, row in rawTime.iterrows():\n",
    "#    count += 1\n",
    "    ts_dtime = pd.to_datetime(row[\"ts\"])\n",
    "    ts_dtime_S.append(pd.Series(ts_dtime))\n",
    "\n",
    "#print(\"type of ts_dtime {} \\n\".format(type(ts_dtime)))\n",
    "#print(\"to check hour year month {}  {} \\n\".format(ts_dtime_S[0].dt.month, ts_dtime_S[1].dt.month))\n",
    "\n",
    "#debug\n",
    "#print(\"number of ts_dtime_S \\n {} \\n\".format(len(ts_dtime_S)))\n",
    "#print(\"to check type of ts_dtime_S element : {} \\n\".format(type(ts_dtime_S[0])))\n",
    "#print(\"to check type of ts_dtime_S element : {} \\n\".format(ts_dtime_S[0]))\n"
   ]
  },
  {
   "cell_type": "code",
   "execution_count": null,
   "metadata": {},
   "outputs": [],
   "source": [
    "time_data = []\n",
    "time_data_e = []\n",
    "\n",
    "#c2=0\n",
    "# convert to timestamp:  datetime.fromtimestamp(xxxx/1000)\n",
    "for ele in ts_dtime_S:\n",
    "    #dt64 = np.datetime64(ele.values[0])\n",
    "    #ts = (dt64 - np.datetime64('1970-01-01T00:00:00.000000000'))/(np.timedelta64(1, 'ms'))\n",
    "    \n",
    "    \n",
    "    time_data_e.append(np.datetime64(ele.values[0]).astype(datetime))\n",
    "\n",
    "    time_data_e.append(ele.dt.hour.values[0])\n",
    "    time_data_e.append(ele.dt.day.values[0])\n",
    "    time_data_e.append(ele.dt.weekofyear.values[0])\n",
    "    time_data_e.append(ele.dt.month.values[0])\n",
    "    time_data_e.append(ele.dt.year.values[0])\n",
    "    time_data_e.append(ele.dt.weekday.values[0])\n",
    "    time_data.append(time_data_e)\n",
    "    time_data_e = []\n",
    "\n",
    "#to see time_data list\n",
    "print(time_data_e)\n",
    "print()\n",
    "print(time_data)\n",
    "\n",
    "column_labels = ['ts','hour','day','weekofyear','month','year','weekday']"
   ]
  },
  {
   "cell_type": "code",
   "execution_count": null,
   "metadata": {},
   "outputs": [],
   "source": [
    "# for debug\n",
    "#print((dict(zip(column_labels,time_data))))\n",
    "#dict_time=dict(zip(column_labels,time_data))\n",
    "#time_df = pd.DataFrame(dict_time,index=['row0'])\n",
    "arr = np.array(time_data)\n",
    "time_df = pd.DataFrame(arr,columns=column_labels)\n",
    "time_df.head()"
   ]
  },
  {
   "cell_type": "markdown",
   "metadata": {},
   "source": [
    "#### Insert Records into Time Table\n",
    "Implement the `time_table_insert` query in `sql_queries.py` and run the cell below to insert records for the timestamps in this log file into the `time` table. Remember to run `create_tables.py` before running the cell below to ensure you've created/resetted the `time` table in the sparkify database."
   ]
  },
  {
   "cell_type": "code",
   "execution_count": null,
   "metadata": {},
   "outputs": [],
   "source": [
    "# insert each time row in time table into the time_table\n",
    "for i, row in time_df.iterrows():\n",
    "    cur.execute(time_table_insert, list(row))\n",
    "    conn.commit()"
   ]
  },
  {
   "cell_type": "markdown",
   "metadata": {},
   "source": [
    "Run `test.ipynb` to see if you've successfully added records to this table."
   ]
  },
  {
   "cell_type": "markdown",
   "metadata": {},
   "source": [
    "## #4: `users` Table\n",
    "#### Extract Data for Users Table\n",
    "- Select columns for user ID, first name, last name, gender and level and set to `user_df`"
   ]
  },
  {
   "cell_type": "code",
   "execution_count": null,
   "metadata": {},
   "outputs": [],
   "source": [
    "# userId, firstName, lastName, gender, level\n",
    "df_user=df[['userId', 'firstName', 'lastName', 'gender', 'level']]\n",
    "\n",
    "df_user_1 = df_user.values[0]\n",
    "user_data = df_user_1.tolist()\n",
    "\n",
    "#debug\n",
    "#print(df_user_data)\n",
    "\n",
    "user_column=['userId', 'firstName', 'lastName', 'gender', 'level']\n",
    "user_dict=dict(zip(user_column,user_data))\n",
    "\n",
    "user_df = pd.DataFrame(user_dict,index=['row0'])"
   ]
  },
  {
   "cell_type": "markdown",
   "metadata": {},
   "source": [
    "#### Insert Records into Users Table\n",
    "Implement the `user_table_insert` query in `sql_queries.py` and run the cell below to insert records for the users in this log file into the `users` table. Remember to run `create_tables.py` before running the cell below to ensure you've created/resetted the `users` table in the sparkify database."
   ]
  },
  {
   "cell_type": "code",
   "execution_count": null,
   "metadata": {},
   "outputs": [],
   "source": [
    "for i, row in user_df.iterrows():\n",
    "    cur.execute(user_table_insert, row)\n",
    "    conn.commit()"
   ]
  },
  {
   "cell_type": "markdown",
   "metadata": {},
   "source": [
    "Run `test.ipynb` to see if you've successfully added records to this table."
   ]
  },
  {
   "cell_type": "markdown",
   "metadata": {},
   "source": [
    "## #5: `songplays` Table\n",
    "#### Extract Data and Songplays Table\n",
    "This one is a little more complicated since information from the songs table, artists table, and original log file are all needed for the `songplays` table. Since the log file does not specify an ID for either the song or the artist, you'll need to get the song ID and artist ID by querying the songs and artists tables to find matches based on song title, artist name, and song duration time.\n",
    "- Implement the `song_select` query in `sql_queries.py` to find the song ID and artist ID based on the title, artist name, and duration of a song.\n",
    "- Select the timestamp, user ID, level, song ID, artist ID, session ID, location, and user agent and set to `songplay_data`\n",
    "\n",
    "#### Insert Records into Songplays Table\n",
    "- Implement the `songplay_table_insert` query and run the cell below to insert records for the songplay actions in this log file into the `songplays` table. Remember to run `create_tables.py` before running the cell below to ensure you've created/resetted the `songplays` table in the sparkify database."
   ]
  },
  {
   "cell_type": "code",
   "execution_count": null,
   "metadata": {},
   "outputs": [],
   "source": [
    "\n",
    "for index, row in df.iterrows():\n",
    "    # get songid and artistid from song and artist tables\n",
    "    cur.execute(song_select, (row.song, row.artist, row.length))\n",
    "    results = cur.fetchone()\n",
    "\n",
    "    #debug: to see result\n",
    "    #print(\"results after SELECT: {}\".format(results))\n",
    "\n",
    "    if results:\n",
    "        songid, artistid = results\n",
    "    else:\n",
    "        songid, artistid = None, None\n",
    "\n",
    "    # insert songplay record\n",
    "    # songplay_id, start_time, user_id, level, song_id, artist_id, session_id, location, user_agent\n",
    "    # ts (convert to dt)\n",
    "\n",
    "    # userId, firstName, lastName, gender, level\n",
    "    # extract from log data\n",
    "    df_songplay_aux=df[['ts','userId','level','sessionId','location','userAgent']]\n",
    "\n",
    "    # to get the first row and transform to a list\n",
    "    df_songplay_aux_1 = df_songplay_aux.values[0]\n",
    "    songplay_aux_data = df_songplay_aux_1.tolist()\n",
    "    \n",
    "    #convert ts to timestamp, applied above ts_dtime \n",
    "    # ts_dtime\n",
    "    songplay_aux_data[0] = datetime.fromtimestamp(songplay_aux_data[0]/1000)\n",
    "\n",
    "    #debug\n",
    "    #print(\"to check songplay_aux_data {} \\n\".format(songplay_aux_data))\n",
    "\n",
    "    #deal with None for songID and artistID\n",
    "    if songid is None:\n",
    "        songid = 0\n",
    "    if artistid is None:\n",
    "        artistid = 0\n",
    "\n",
    "    #debug\n",
    "    # to check songid and artistid\n",
    "    #print(\"to check songid {}  and artistid \\n\".format(songid,artistid))\n",
    "\n",
    "    # to append songplayid\n",
    "    #songplay_aux_data.insert(index,0)  -< using SERIAL when CREAT TABLE\n",
    "    # location of songid and artistid is not counted for songplay_id\n",
    "    #songplay_aux_data.insert(3,songid)\n",
    "    #songplay_aux_data.insert(4,artistid)\n",
    "    \n",
    "    songplay_aux_data.insert(0,index)\n",
    "    songplay_aux_data.insert(4,songid)\n",
    "    songplay_aux_data.insert(5,artistid)\n",
    "\n",
    "    #debug\n",
    "    #print(\"to check songplay_aux_data after insert 2 boys {} \\n\".format(songplay_aux_data))\n",
    "    # assumn index is increment from df was read from whole file json\n",
    "\n",
    "    #option1\n",
    "    songplay_column = ['songplay_id','ts','userId','level','song_id','artist_id','sessionId','location','userAgent']\n",
    "\n",
    "    # option2: songplay_id is primary key : use SERIAL auto increment by postgreSQL\n",
    "    #songplay_column = ['ts','userId','level','song_id','artist_id','sessionId','location','userAgent']\n",
    "\n",
    "    songplay_dict = dict(zip(songplay_column,songplay_aux_data))\n",
    "\n",
    "    #debug\n",
    "    #print(\"to see songplay_dcit = {} \\n\".format(songplay_dict))\n",
    "    # songplay_df = pd.DataFrame(songplay_dict)\n",
    "\n",
    "    # songplay_data = ()\n",
    "    cur.execute(songplay_table_insert, songplay_aux_data)\n",
    "    conn.commit()\n"
   ]
  },
  {
   "cell_type": "markdown",
   "metadata": {},
   "source": [
    "Run `test.ipynb` to see if you've successfully added records to this table."
   ]
  },
  {
   "cell_type": "markdown",
   "metadata": {},
   "source": [
    "# Close Connection to Sparkify Database"
   ]
  },
  {
   "cell_type": "code",
   "execution_count": null,
   "metadata": {},
   "outputs": [],
   "source": [
    "conn.close()"
   ]
  },
  {
   "cell_type": "markdown",
   "metadata": {},
   "source": [
    "# Implement `etl.py`\n",
    "Use what you've completed in this notebook to implement `etl.py`."
   ]
  },
  {
   "cell_type": "code",
   "execution_count": null,
   "metadata": {},
   "outputs": [],
   "source": []
  }
 ],
 "metadata": {
  "kernelspec": {
   "display_name": "Python 3.10.5 64-bit",
   "language": "python",
   "name": "python3"
  },
  "language_info": {
   "codemirror_mode": {
    "name": "ipython",
    "version": 3
   },
   "file_extension": ".py",
   "mimetype": "text/x-python",
   "name": "python",
   "nbconvert_exporter": "python",
   "pygments_lexer": "ipython3",
   "version": "3.10.5"
  },
  "vscode": {
   "interpreter": {
    "hash": "ee50765b188007e4b15441a938ec8bb45473ec1c8fdb01049f3296640a547119"
   }
  }
 },
 "nbformat": 4,
 "nbformat_minor": 2
}
